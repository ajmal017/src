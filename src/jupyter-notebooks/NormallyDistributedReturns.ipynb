{
 "cells": [
  {
   "cell_type": "markdown",
   "metadata": {},
   "source": [
    "# Are Returns Normally Distributed?"
   ]
  },
  {
   "cell_type": "markdown",
   "metadata": {},
   "source": [
    "Often when given a time series (which has some drift), it is important to see whether the distribution of returns is indeed normally distributed, and this can be done by looking at the **skewness** and **kurtosis** of the data.\n",
    "\n",
    "**Skewness** is the measure of the asymmetry of the porbability distribution of a real valued random variable about its mean.\n",
    "**Kurtosis** is the measured of the *tailedness* of a probability distribution of a real valued random variable.\n",
    "\n",
    "Under the normality assumption, both skewness, $s(x)$, and kurtosis, $k(x) - 3$, are distributed asymptotically as normal with mean of zero, and variances of $6/T$ and $24/T$, respectively."
   ]
  },
  {
   "cell_type": "markdown",
   "metadata": {},
   "source": [
    "Therefore, in order to test this assumption, we will look at the time series of data, assuming it has a drift, we will remove this by looking at the returns, and to tidy up the maths, look at the log return series, $ \\{r_1, ... , r_n\\} $.\n",
    "\n"
   ]
  },
  {
   "cell_type": "markdown",
   "metadata": {},
   "source": [
    "## Testing the Skewness"
   ]
  },
  {
   "cell_type": "markdown",
   "metadata": {},
   "source": [
    "In order to test the skewness, consider the null hypothesis,\n",
    "$H_0: s(r) = 0$, versus the alternate hypothesis, $H_1: s(r) \\neq 0$.\n",
    "\n",
    "The t-ratio statistic of the sample skewness is $t = \\hat{s}(r)/\\sqrt{6/T}$. Where you reject null hypothesis, $H_0$, at significance level alpha, $\\alpha$, if $|t| > z_{\\alpha\\2}$ where $z_{\\alpha \\2}$ is the upper $100(\\alpha/2)-th$ quantile of a standard normal distribution."
   ]
  },
  {
   "cell_type": "markdown",
   "metadata": {},
   "source": [
    "(Alternatively, you could compute the p-value of the test statistic $t$ and reject the null hypothesis, $H_0 \\iff p-value < \\alpha$."
   ]
  },
  {
   "cell_type": "markdown",
   "metadata": {},
   "source": [
    "## Test the Kurtosis"
   ]
  },
  {
   "cell_type": "markdown",
   "metadata": {},
   "source": [
    "One could go about testing the excess kurtosis of the time series by using the null hypothesis, $H_0 : k(r) -3 = 0$, versus the alternative test statistic, which is $t = (k(r) -3)/\\sqrt{24/T}.$"
   ]
  },
  {
   "cell_type": "code",
   "execution_count": null,
   "metadata": {},
   "outputs": [],
   "source": []
  }
 ],
 "metadata": {
  "kernelspec": {
   "display_name": "Python 3",
   "language": "python",
   "name": "python3"
  },
  "language_info": {
   "codemirror_mode": {
    "name": "ipython",
    "version": 3
   },
   "file_extension": ".py",
   "mimetype": "text/x-python",
   "name": "python",
   "nbconvert_exporter": "python",
   "pygments_lexer": "ipython3",
   "version": "3.7.3"
  }
 },
 "nbformat": 4,
 "nbformat_minor": 2
}
